{
 "cells": [
  {
   "cell_type": "markdown",
   "metadata": {},
   "source": [
    "## 1. Linear Regression (not using placeholder)"
   ]
  },
  {
   "cell_type": "code",
   "execution_count": 10,
   "metadata": {
    "collapsed": true
   },
   "outputs": [],
   "source": [
    "import tensorflow as tf\n",
    "import numpy as np"
   ]
  },
  {
   "cell_type": "code",
   "execution_count": 11,
   "metadata": {
    "collapsed": true
   },
   "outputs": [],
   "source": [
    "x_train = [1, 2, 3]\n",
    "y_train = [1, 2, 3]\n",
    "\n",
    "W = tf.Variable(tf.random_normal([1]), name='weight')\n",
    "b = tf.Variable(tf.random_normal([1]), name='bias')\n",
    "\n",
    "h = x_train * W + b"
   ]
  },
  {
   "cell_type": "code",
   "execution_count": 12,
   "metadata": {
    "collapsed": true
   },
   "outputs": [],
   "source": [
    "cost = tf.reduce_mean(tf.square(h - y_train))"
   ]
  },
  {
   "cell_type": "code",
   "execution_count": 13,
   "metadata": {
    "collapsed": true
   },
   "outputs": [],
   "source": [
    "optimizer = tf.train.GradientDescentOptimizer(learning_rate=0.01)\n",
    "train = optimizer.minimize(cost)"
   ]
  },
  {
   "cell_type": "code",
   "execution_count": 15,
   "metadata": {
    "scrolled": true
   },
   "outputs": [
    {
     "name": "stdout",
     "output_type": "stream",
     "text": [
      "0 9.00427 [-0.57020998] [ 0.42738467]\n",
      "100 0.0778018 [ 0.67603135] [ 0.73643219]\n",
      "200 0.0480768 [ 0.74533814] [ 0.57890606]\n",
      "300 0.0297085 [ 0.79981261] [ 0.45507303]\n",
      "400 0.0183581 [ 0.8426345] [ 0.35772878]\n",
      "500 0.0113442 [ 0.87629634] [ 0.28120738]\n",
      "600 0.00701002 [ 0.90275759] [ 0.2210547]\n",
      "700 0.00433177 [ 0.92355865] [ 0.17376906]\n",
      "800 0.00267677 [ 0.93991017] [ 0.13659835]\n",
      "900 0.00165408 [ 0.95276392] [ 0.10737866]\n",
      "1000 0.00102212 [ 0.96286809] [ 0.08440951]\n",
      "1100 0.00063161 [ 0.97081095] [ 0.06635361]\n",
      "1200 0.000390295 [ 0.97705472] [ 0.05216001]\n",
      "1300 0.000241177 [ 0.98196298] [ 0.04100247]\n",
      "1400 0.000149034 [ 0.98582125] [ 0.03223164]\n",
      "1500 9.2094e-05 [ 0.98885423] [ 0.02533701]\n",
      "1600 5.69087e-05 [ 0.99123836] [ 0.01991728]\n",
      "1700 3.51658e-05 [ 0.99311256] [ 0.01565671]\n",
      "1800 2.17302e-05 [ 0.99458587] [ 0.01230756]\n",
      "1900 1.34282e-05 [ 0.99574399] [ 0.00967485]\n",
      "2000 8.29744e-06 [ 0.99665445] [ 0.00760527]\n"
     ]
    }
   ],
   "source": [
    "sess = tf.Session()\n",
    "sess.run(tf.global_variables_initializer())\n",
    "\n",
    "for step in range(2001):\n",
    "    sess.run(train)\n",
    "    if step % 100 == 0:\n",
    "        print(step, sess.run(cost), sess.run(W), sess.run(b))"
   ]
  },
  {
   "cell_type": "markdown",
   "metadata": {},
   "source": [
    "## 2. Linear Regression (using placeholder)\n",
    "\n",
    "Q. Why do we use placeholder?  \n",
    "- 이미 만들어진 모델에서 값을 따로 넘겨줄 수 있다.  \n",
    "- 즉, 이미 여러 가지 모델을 미리 만들어 둔 후에 데이터만 넘겨서 돌려볼 수 있다."
   ]
  },
  {
   "cell_type": "code",
   "execution_count": 20,
   "metadata": {
    "collapsed": true
   },
   "outputs": [],
   "source": [
    "W = tf.Variable(tf.random_normal([1]), name='weight')\n",
    "b = tf.Variable(tf.random_normal([1]), name='bias')\n",
    "\n",
    "X = tf.placeholder(tf.float32, shape=[None])  \n",
    "Y = tf.placeholder(tf.float32, shape=[None])\n",
    "# shape=[None] : 1차원 벡터 N개가 들어올 수 있다. 정해지지 않은 숫자 N개\n",
    "\n",
    "# Our hypothesis XW+b\n",
    "h = X * W + b"
   ]
  },
  {
   "cell_type": "code",
   "execution_count": 21,
   "metadata": {
    "collapsed": true
   },
   "outputs": [],
   "source": [
    "# cost/loss function\n",
    "cost = tf.reduce_mean(tf.square(h - Y))"
   ]
  },
  {
   "cell_type": "code",
   "execution_count": 22,
   "metadata": {
    "collapsed": true
   },
   "outputs": [],
   "source": [
    "# Minimize cost\n",
    "optimizer = tf.train.GradientDescentOptimizer(learning_rate=0.01)\n",
    "train = optimizer.minimize(cost)"
   ]
  },
  {
   "cell_type": "code",
   "execution_count": 23,
   "metadata": {
    "scrolled": true
   },
   "outputs": [
    {
     "name": "stdout",
     "output_type": "stream",
     "text": [
      "0 51.0219 [-0.35864305] [ 0.07015225]\n",
      "100 0.0342933 [ 1.11982071] [ 0.66740918]\n",
      "200 0.0174199 [ 1.08539844] [ 0.79168457]\n",
      "300 0.00884873 [ 1.06086493] [ 0.8802579]\n",
      "400 0.00449488 [ 1.04337978] [ 0.94338536]\n",
      "500 0.00228326 [ 1.03091753] [ 0.98837763]\n",
      "600 0.00115981 [ 1.02203548] [ 1.02044487]\n",
      "700 0.000589155 [ 1.01570523] [ 1.04329932]\n",
      "800 0.000299267 [ 1.01119316] [ 1.05958891]\n",
      "900 0.000152019 [ 1.0079776] [ 1.07119787]\n",
      "1000 7.72252e-05 [ 1.00568593] [ 1.07947159]\n",
      "1100 3.92291e-05 [ 1.00405252] [ 1.08536899]\n",
      "1200 1.99266e-05 [ 1.00288832] [ 1.08957219]\n",
      "1300 1.0121e-05 [ 1.00205839] [ 1.09256828]\n",
      "1400 5.14082e-06 [ 1.00146711] [ 1.09470332]\n",
      "1500 2.6117e-06 [ 1.0010457] [ 1.09622467]\n",
      "1600 1.32712e-06 [ 1.00074553] [ 1.09730887]\n",
      "1700 6.74276e-07 [ 1.00053144] [ 1.09808183]\n",
      "1800 3.42661e-07 [ 1.00037873] [ 1.09863245]\n",
      "1900 1.74158e-07 [ 1.00027001] [ 1.09902489]\n",
      "2000 8.86173e-08 [ 1.00019264] [ 1.09930456]\n"
     ]
    }
   ],
   "source": [
    "# Launch the graph in a session\n",
    "sess = tf.Session()\n",
    "\n",
    "# Initializes global variables in the graph\n",
    "sess.run(tf.global_variables_initializer())\n",
    "\n",
    "# Fit the line with new training data\n",
    "for step in range(2001):\n",
    "    cost_val, W_val, b_val, _ = sess.run([cost, W, b, train],\n",
    "                                        feed_dict = {X: [1,2,3,4,5],\n",
    "                                           Y: [2.1,3.1,4.1,5.1,6.1]})\n",
    "    if step % 100 == 0:\n",
    "        print(step, cost_val, W_val, b_val)"
   ]
  },
  {
   "cell_type": "code",
   "execution_count": 25,
   "metadata": {},
   "outputs": [
    {
     "name": "stdout",
     "output_type": "stream",
     "text": [
      "[ 6.10026789]\n"
     ]
    }
   ],
   "source": [
    "# Testing our model\n",
    "\n",
    "print(sess.run(h, feed_dict={X:[5]})) # 만들어 둔 모델에 X=5를 대입했을 때 예측값을 출력한다."
   ]
  },
  {
   "cell_type": "markdown",
   "metadata": {},
   "source": [
    "## 결론. TensorFlow Mechanics\n",
    "\n",
    "1. variables, data(placeholder), Hypothesis, cost function을 정의하여 graph를 빌드한다.\n",
    "2. data를 feed하고 graph를 돌린다. (`sess.run(op, feed_dict={x:x_data})`)\n",
    "3. 내부적으로 graph의 variables를 update 하고, 필요한 경우 graph에 넣은 hypothesis의 value를 return한다."
   ]
  },
  {
   "cell_type": "code",
   "execution_count": null,
   "metadata": {
    "collapsed": true
   },
   "outputs": [],
   "source": []
  }
 ],
 "metadata": {
  "kernelspec": {
   "display_name": "Python 3",
   "language": "python",
   "name": "python3"
  },
  "language_info": {
   "codemirror_mode": {
    "name": "ipython",
    "version": 3
   },
   "file_extension": ".py",
   "mimetype": "text/x-python",
   "name": "python",
   "nbconvert_exporter": "python",
   "pygments_lexer": "ipython3",
   "version": "3.5.3"
  }
 },
 "nbformat": 4,
 "nbformat_minor": 2
}
